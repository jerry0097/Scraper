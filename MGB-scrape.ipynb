{
 "cells": [
  {
   "cell_type": "code",
   "execution_count": 1,
   "id": "8ac4de3c",
   "metadata": {},
   "outputs": [],
   "source": [
    "#!pip install pandas\n",
    "#!pip install selenium\n",
    "#!pip install beautifulsoup4\n",
    "#!pip install urllib3\n",
    "# CHROMEDRIVER LINK - https://chromedriver.storage.googleapis.com/104.0.5112.79/chromedriver_win32.zip\n",
    "# UNZIP THE CHROME DRIVER AND SAVE WEBDRIVER IN THIS LOCATION --- = \"C:/Users/RAFUSER/Documents/chromedriver\""
   ]
  },
  {
   "cell_type": "code",
   "execution_count": 1,
   "id": "22f383de",
   "metadata": {},
   "outputs": [],
   "source": [
    "import os\n",
    "from bs4 import BeautifulSoup\n",
    "from selenium import webdriver\n",
    "import sys\n",
    "import time\n",
    "import json\n",
    "import requests\n",
    "import pandas as pd \n",
    "import urllib.parse \n",
    "from selenium.webdriver.common.by import By\n",
    "from selenium.webdriver.common.keys import Keys"
   ]
  },
  {
   "cell_type": "code",
   "execution_count": 3,
   "id": "50c03d0f",
   "metadata": {},
   "outputs": [
    {
     "name": "stderr",
     "output_type": "stream",
     "text": [
      "C:\\Users\\RAFUSER\\AppData\\Local\\Temp\\ipykernel_9144\\192607605.py:1: DeprecationWarning: executable_path has been deprecated, please pass in a Service object\n",
      "  driver = webdriver.Chrome('C:/Users/RAFUSER/Documents/chromedriver')\n"
     ]
    }
   ],
   "source": [
    "driver = webdriver.Chrome('C:/Users/RAFUSER/Documents/chromedriver')\n",
    "driver.get('https://www.magicbricks.com/property-for-sale/residential-real-estate?bedroom=&proptype=Multistorey-Apartment,Builder-Floor-Apartment,Penthouse,Studio-Apartment,Residential-House,Villa,Residential-Plot&cityName=Chennai') \n"
   ]
  },
  {
   "cell_type": "code",
   "execution_count": 3,
   "id": "264bbbb6",
   "metadata": {},
   "outputs": [
    {
     "name": "stderr",
     "output_type": "stream",
     "text": [
      "C:\\Users\\RAFUSER\\AppData\\Local\\Temp\\ipykernel_12308\\2452447385.py:1: DeprecationWarning: executable_path has been deprecated, please pass in a Service object\n",
      "  driver = webdriver.Chrome('C:/Users/RAFUSER/Documents/chromedriver')\n"
     ]
    },
    {
     "name": "stdout",
     "output_type": "stream",
     "text": [
      "Page is Scrolling Down ...Wait(1)\n",
      "Page is Scrolling Down ...Wait(2)\n",
      "Page is Scrolling Down ...Wait(3)\n",
      "Page is Scrolling Down ...Wait(4)\n",
      "Page is Scrolling Down ...Wait(5)\n",
      "Page is Scrolling Down ...Wait(6)\n",
      "Page is Scrolling Down ...Wait(7)\n",
      "Page is Scrolling Down ...Wait(8)\n",
      "Page is Scrolling Down ...Wait(9)\n",
      "Page is Scrolling Down ...Wait(10)\n",
      "Page is Scrolling Down ...Wait(11)\n",
      "Page is Scrolling Down ...Wait(12)\n",
      "Page is Scrolling Down ...Wait(13)\n",
      "Page is Scrolling Down ...Wait(14)\n",
      "Page is Scrolling Down ...Wait(15)\n",
      "Page is Scrolling Down ...Wait(16)\n",
      "Page is Scrolling Down ...Wait(17)\n",
      "Page is Scrolling Down ...Wait(18)\n",
      "Page is Scrolling Down ...Wait(19)\n",
      "Page is Scrolling Down ...Wait(20)\n",
      "Page is Scrolling Down ...Wait(21)\n",
      "Page is Scrolling Down ...Wait(22)\n",
      "Page is Scrolling Down ...Wait(23)\n",
      "Page is Scrolling Down ...Wait(24)\n",
      "Page is Scrolling Down ...Wait(25)\n",
      "Page is Scrolling Down ...Wait(26)\n",
      "Page is Scrolling Down ...Wait(27)\n",
      "Page is Scrolling Down ...Wait(28)\n",
      "Page is Scrolling Down ...Wait(29)\n",
      "Page is Scrolling Down ...Wait(30)\n",
      "Page is Scrolling Down ...Wait(31)\n",
      "Page is Scrolling Down ...Wait(32)\n",
      "Page is Scrolling Down ...Wait(33)\n",
      "Page is Scrolling Down ...Wait(34)\n",
      "Page is Scrolling Down ...Wait(35)\n",
      "Page is Scrolling Down ...Wait(36)\n",
      "Page is Scrolling Down ...Wait(37)\n",
      "Page is Scrolling Down ...Wait(38)\n",
      "Page is Scrolling Down ...Wait(39)\n",
      "Page is Scrolling Down ...Wait(40)\n",
      "Page is Scrolling Down ...Wait(41)\n",
      "Page is Scrolling Down ...Wait(42)\n",
      "Page is Scrolling Down ...Wait(43)\n",
      "Page is Scrolling Down ...Wait(44)\n",
      "Page is Scrolling Down ...Wait(45)\n",
      "Page is Scrolling Down ...Wait(46)\n",
      "Page is Scrolling Down ...Wait(47)\n",
      "Page is Scrolling Down ...Wait(48)\n",
      "Page is Scrolling Down ...Wait(49)\n",
      "Page is Scrolling Down ...Wait(50)\n",
      "Page is Scrolling Down ...Wait(51)\n",
      "Scroll Down Completed\n"
     ]
    }
   ],
   "source": [
    "driver = webdriver.Chrome('C:/Users/RAFUSER/Documents/chromedriver')\n",
    "driver.get('https://www.magicbricks.com/property-for-sale/residential-real-estate?proptype=Multistorey-Apartment,Builder-Floor-Apartment,Penthouse,Studio-Apartment,Residential-House,Villa&page=1&cityName=Chennai&category=B&cityName=Chennai&Locality=Old%20Mahabalipuram%20Road') \n",
    "\n",
    "iter = 1\n",
    "\n",
    "lastHeight = driver.execute_script(\"return document.body.scrollHeight\")\n",
    "while True:\n",
    "    print(r\"Page is Scrolling Down ...Wait({})\".format(iter))\n",
    "    driver.execute_script(\"window.scrollTo(0, document.body.scrollHeight)\")\n",
    "    time.sleep(10)\n",
    "    iter += 1\n",
    "\n",
    "    newHeight = driver.execute_script(\"return document.body.scrollHeight\")\n",
    "    if newHeight == lastHeight:\n",
    "        break\n",
    "    lastHeight = newHeight\n",
    "print(r\"Scroll Down Completed\")\n",
    "\n",
    "\n",
    "html = driver.page_source\n",
    "soup = BeautifulSoup(html,'html.parser')\n",
    "titleu  = soup.find_all('h2',{'class': 'mb-srp__card--title'})\n",
    "builderu = soup.find_all('div',{'class': 'mb-srp__card__society'})\n",
    "priceu = soup.find_all('div',{'class': 'mb-srp__card__price--amount'})\n",
    "ppsqftu = soup.find_all('div',{'class': 'mb-srp__card__price--size'})\n",
    "\n",
    "titles = []\n",
    "builder =[]\n",
    "price = []\n",
    "sqft_price = []\n",
    "\n",
    "\n",
    "for listu in range (len(titleu)):\n",
    "    try:\n",
    "        titles.append(titleu[listu].text.replace('\\n', ''))\n",
    "    except:\n",
    "        titles.append('n/a')\n",
    "    try:\n",
    "        builder.append(builderu[listu].text)\n",
    "    except:\n",
    "        builder.append('error')\n",
    "    try:\n",
    "        price.append(priceu[listu].text)\n",
    "    except:\n",
    "        price.append('error')\n",
    "    try:\n",
    "        sqft_price.append(ppsqftu[listu].text)\n",
    "    except:\n",
    "        sqft_price.append('error')\n",
    "        \n",
    "msbricks = {'Name': titles, 'Builder':builder, 'Price':price, 'Price per SqFt': sqft_price}\n",
    "msbricksdset = pd.DataFrame.from_dict(msbricks, orient='index')\n",
    "msbricksdset = msbricksdset.transpose()\n",
    "\n",
    "msbricksdset.to_csv('scrap_magicbricks3.csv', index=False)"
   ]
  },
  {
   "cell_type": "code",
   "execution_count": 4,
   "id": "077ebf3a",
   "metadata": {},
   "outputs": [
    {
     "data": {
      "text/html": [
       "<div>\n",
       "<style scoped>\n",
       "    .dataframe tbody tr th:only-of-type {\n",
       "        vertical-align: middle;\n",
       "    }\n",
       "\n",
       "    .dataframe tbody tr th {\n",
       "        vertical-align: top;\n",
       "    }\n",
       "\n",
       "    .dataframe thead th {\n",
       "        text-align: right;\n",
       "    }\n",
       "</style>\n",
       "<table border=\"1\" class=\"dataframe\">\n",
       "  <thead>\n",
       "    <tr style=\"text-align: right;\">\n",
       "      <th></th>\n",
       "      <th>Name</th>\n",
       "      <th>Builder</th>\n",
       "      <th>Price</th>\n",
       "      <th>Price per SqFt</th>\n",
       "    </tr>\n",
       "  </thead>\n",
       "  <tbody>\n",
       "    <tr>\n",
       "      <th>0</th>\n",
       "      <td>2 BHK Flat  for Sale in  Valasaravakkam, Arcot...</td>\n",
       "      <td>Navins Hanging Gardens</td>\n",
       "      <td>₹99.1 Lac</td>\n",
       "      <td>₹8,700 per sqft</td>\n",
       "    </tr>\n",
       "    <tr>\n",
       "      <th>1</th>\n",
       "      <td>2 BHK Flat  for Sale in  Pammal , Chennai</td>\n",
       "      <td>ATH Moonlight</td>\n",
       "      <td>₹56.9 Lac</td>\n",
       "      <td>₹6,000 per sqft</td>\n",
       "    </tr>\n",
       "    <tr>\n",
       "      <th>2</th>\n",
       "      <td>3 BHK Flat  for Sale in  Kottivakkam , Chennai</td>\n",
       "      <td>Nutech Elevate 21</td>\n",
       "      <td>₹1.27 Cr</td>\n",
       "      <td>₹9,200 per sqft</td>\n",
       "    </tr>\n",
       "    <tr>\n",
       "      <th>3</th>\n",
       "      <td>3 BHK Flat  for Sale in  Nungambakkam , Chennai</td>\n",
       "      <td>Hansa One Oh One</td>\n",
       "      <td>₹2.54 Cr</td>\n",
       "      <td>₹16,000 per sqft</td>\n",
       "    </tr>\n",
       "    <tr>\n",
       "      <th>4</th>\n",
       "      <td>1 BHK Flat  for Sale in  Navalur , Chennai</td>\n",
       "      <td>Olympia Opaline</td>\n",
       "      <td>₹34.5 Lac</td>\n",
       "      <td>₹5,877 per sqft</td>\n",
       "    </tr>\n",
       "  </tbody>\n",
       "</table>\n",
       "</div>"
      ],
      "text/plain": [
       "                                                Name                 Builder  \\\n",
       "0  2 BHK Flat  for Sale in  Valasaravakkam, Arcot...  Navins Hanging Gardens   \n",
       "1          2 BHK Flat  for Sale in  Pammal , Chennai           ATH Moonlight   \n",
       "2     3 BHK Flat  for Sale in  Kottivakkam , Chennai       Nutech Elevate 21   \n",
       "3    3 BHK Flat  for Sale in  Nungambakkam , Chennai        Hansa One Oh One   \n",
       "4         1 BHK Flat  for Sale in  Navalur , Chennai         Olympia Opaline   \n",
       "\n",
       "       Price    Price per SqFt  \n",
       "0  ₹99.1 Lac   ₹8,700 per sqft  \n",
       "1  ₹56.9 Lac   ₹6,000 per sqft  \n",
       "2   ₹1.27 Cr   ₹9,200 per sqft  \n",
       "3   ₹2.54 Cr  ₹16,000 per sqft  \n",
       "4  ₹34.5 Lac   ₹5,877 per sqft  "
      ]
     },
     "execution_count": 4,
     "metadata": {},
     "output_type": "execute_result"
    }
   ],
   "source": [
    "msbricksdset.head()"
   ]
  },
  {
   "cell_type": "code",
   "execution_count": 5,
   "id": "367418c8",
   "metadata": {},
   "outputs": [
    {
     "data": {
      "text/plain": [
       "1500"
      ]
     },
     "execution_count": 5,
     "metadata": {},
     "output_type": "execute_result"
    }
   ],
   "source": [
    "len(msbricksdset)"
   ]
  },
  {
   "cell_type": "code",
   "execution_count": null,
   "id": "4907931a",
   "metadata": {},
   "outputs": [],
   "source": []
  }
 ],
 "metadata": {
  "kernelspec": {
   "display_name": "Python 3 (ipykernel)",
   "language": "python",
   "name": "python3"
  },
  "language_info": {
   "codemirror_mode": {
    "name": "ipython",
    "version": 3
   },
   "file_extension": ".py",
   "mimetype": "text/x-python",
   "name": "python",
   "nbconvert_exporter": "python",
   "pygments_lexer": "ipython3",
   "version": "3.9.7"
  }
 },
 "nbformat": 4,
 "nbformat_minor": 5
}
